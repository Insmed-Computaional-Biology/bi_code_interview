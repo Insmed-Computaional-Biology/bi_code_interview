{
 "cells": [
  {
   "cell_type": "markdown",
   "id": "3b81d561-dc22-4320-9d8f-a3ccf632604f",
   "metadata": {},
   "source": [
    "# Peptide Space Exploration: Distances, and Group Comparisons\n",
    "\n",
    "These questions focus on string comparison and dataframe useage and manipulation.\n",
    "\n",
    "They are intended to be open ended to facilitate discussion and thinking. There is no one right answer."
   ]
  },
  {
   "cell_type": "markdown",
   "id": "d913ae46-9a7c-49c8-a6b6-4402978100da",
   "metadata": {},
   "source": [
    "## Import recommended libraries\n",
    "\n",
    "We've populated common data science libraries, but you can install and import whatever libraries you'd like."
   ]
  },
  {
   "cell_type": "code",
   "execution_count": null,
   "id": "2b1c1ffa-100c-49d5-a01f-105c0f3f3760",
   "metadata": {},
   "outputs": [],
   "source": [
    "%%capture\n",
    "!pip install numpy pandas seaborn matplotlib"
   ]
  },
  {
   "cell_type": "code",
   "execution_count": null,
   "id": "e332d1fd-b775-4b1d-9529-ad1dcbb1e0b2",
   "metadata": {},
   "outputs": [],
   "source": [
    "import itertools\n",
    "import numpy as np\n",
    "import pandas as pd\n",
    "import seaborn as sns\n",
    "import matplotlib\n",
    "import matplotlib.pyplot as plt"
   ]
  },
  {
   "cell_type": "markdown",
   "id": "a0d61ff1-bceb-4318-932a-0472f42daeb5",
   "metadata": {},
   "source": [
    "## Determine how similar _peptide_1_ is to _peptide_2_\n",
    "\n",
    "We are interested in comparing one string to another.\n",
    "\n",
    "Peptides are sequences of amino acids. We represent amino acids as characters, which means peptides are just strings.\n",
    "\n",
    "A few notes:\n",
    "\n",
    "- All peptides will have the same length.\n",
    "- Index matters. When comparing two peptides, only compare characters at the same index.\n",
    "\n",
    "  ### Example\n",
    "\n",
    "  Given two peptides `ADC` and `AEC` ...\n",
    "\n",
    "  ```\n",
    "  ADC\n",
    "  |.|\n",
    "  AEC\n",
    "  ```\n",
    "\n",
    "  Index 0 is compared to index 0, index 1 is compared to index 1, and so on.\n",
    "\n",
    "  In this example, indices 0 and 2 have the same amino acids. Index 1 has a different amino acid.\n",
    "\n",
    "- Similarity is measured on a 0-1 scale where 1 means two peptides are identical and 0 means they are completely dissimilar at each index."
   ]
  },
  {
   "cell_type": "code",
   "execution_count": null,
   "id": "4e5945dc-f1d7-42ce-8ac6-3a75943d6a08",
   "metadata": {},
   "outputs": [],
   "source": [
    "peptide_1 = 'AYLDVFNKF'\n",
    "peptide_2 = 'VYIDVFNWD'"
   ]
  },
  {
   "cell_type": "code",
   "execution_count": null,
   "id": "b239ec23-3754-4f21-a386-5594e8ffb7eb",
   "metadata": {},
   "outputs": [],
   "source": [
    "def calculate_peptide_similarity():\n",
    "    \n",
    "    # write your code here\n",
    "    \n",
    "    return\n",
    "\n",
    "calculate_peptide_similarity()"
   ]
  },
  {
   "cell_type": "markdown",
   "id": "c85e4abf-df90-4583-9919-22f06ebc7a3d",
   "metadata": {},
   "source": [
    "`peptide_groups.csv` contains two columns:\n",
    "\n",
    "- group: The group a peptide belongs to.\n",
    "- peptide: The amino acid sequence."
   ]
  },
  {
   "cell_type": "code",
   "execution_count": null,
   "id": "9d401df2-5d8c-4638-a91a-cc4dcfa67f7a",
   "metadata": {},
   "outputs": [],
   "source": [
    "df = pd.read_csv(\"https://raw.githubusercontent.com/Insmed-Computaional-Biology/bi_code_interview/refs/heads/main/peptides/peptide_groups.csv\")\n",
    "df.info()"
   ]
  },
  {
   "cell_type": "code",
   "execution_count": null,
   "id": "7a184992-007f-4441-b644-0f53ce8c5a4d",
   "metadata": {},
   "outputs": [],
   "source": [
    "df.head()"
   ]
  },
  {
   "cell_type": "markdown",
   "id": "406a50cf-07ed-43f2-a2f7-6f8163e949fd",
   "metadata": {},
   "source": [
    "## Find the peptide in the dataframe that is most similar to _peptide_1_\n",
    "\n",
    "For now, ignore the `group` column."
   ]
  },
  {
   "cell_type": "code",
   "execution_count": null,
   "id": "632141de-ef1c-42bd-9aa6-61484b737d6d",
   "metadata": {},
   "outputs": [],
   "source": [
    "# Code:"
   ]
  },
  {
   "cell_type": "markdown",
   "id": "1d358d72-769b-4132-a12d-7fefbcbeaa66",
   "metadata": {},
   "source": [
    "## Which group of peptides is _peptide_1_ most similar to\n",
    "\n",
    "We are interested in comparing one string to a group of strings.\n",
    "\n",
    "Now you will need to consider the `group` column."
   ]
  },
  {
   "cell_type": "code",
   "execution_count": null,
   "id": "575b6127-f8fd-48b3-9a4e-037bfde5eae2",
   "metadata": {},
   "outputs": [],
   "source": [
    "# Code:"
   ]
  },
  {
   "cell_type": "markdown",
   "id": "f3bb869b-248c-41df-aa35-cf102bdcf25f",
   "metadata": {},
   "source": [
    "## Which two groups of peptides in the dataframe are the most similar\n",
    "\n",
    "We are interested in comparing groups of strings to each other."
   ]
  },
  {
   "cell_type": "code",
   "execution_count": null,
   "id": "20fb3954-8578-4046-b99a-2dcb8fa88898",
   "metadata": {},
   "outputs": [],
   "source": [
    "# Code:"
   ]
  },
  {
   "cell_type": "markdown",
   "id": "17236cc9-4c5d-4f53-9e7f-1477da5707d8",
   "metadata": {},
   "source": [
    "## Visualization\n",
    "\n",
    "Given peptide groups `group_A` and `group_B`, how would you visualize their similarity?"
   ]
  },
  {
   "cell_type": "code",
   "execution_count": null,
   "id": "7881971f-2a8e-4d43-ba69-9d0da6b64920",
   "metadata": {},
   "outputs": [],
   "source": [
    "# Code:"
   ]
  }
 ],
 "metadata": {
  "kernelspec": {
   "display_name": "Python 3 (ipykernel)",
   "language": "python",
   "name": "python3"
  },
  "language_info": {
   "codemirror_mode": {
    "name": "ipython",
    "version": 3
   },
   "file_extension": ".py",
   "mimetype": "text/x-python",
   "name": "python",
   "nbconvert_exporter": "python",
   "pygments_lexer": "ipython3",
   "version": "3.13.3"
  }
 },
 "nbformat": 4,
 "nbformat_minor": 5
}
