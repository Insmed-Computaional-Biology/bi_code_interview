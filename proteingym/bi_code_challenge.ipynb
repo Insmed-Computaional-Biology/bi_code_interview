{
 "cells": [
  {
   "cell_type": "markdown",
   "id": "f22bc554-7323-4254-9cc6-eaedd3697aa0",
   "metadata": {
    "jp-MarkdownHeadingCollapsed": true
   },
   "source": [
    "Let's look at some deep mutational scanning (DMS) data.\n",
    "\n",
    "`dms.csv` contains two columns:\n",
    "\n",
    "- mutant: The mutation tested.\n",
    "- DMS_score: A functional score for the mutated protein relative to wild-type (WT). Positive is better than WT."
   ]
  },
  {
   "cell_type": "code",
   "execution_count": 35,
   "id": "59cd0bc0-4536-44db-b0e4-ab1e3f9c88aa",
   "metadata": {},
   "outputs": [],
   "source": [
    "%%capture\n",
    "!pip install seaborn scipy pandas"
   ]
  },
  {
   "cell_type": "code",
   "execution_count": 36,
   "id": "316cd52d-f376-4435-93e9-9c2de483d9f6",
   "metadata": {},
   "outputs": [
    {
     "name": "stdout",
     "output_type": "stream",
     "text": [
      "<class 'pandas.core.frame.DataFrame'>\n",
      "RangeIndex: 922 entries, 0 to 921\n",
      "Data columns (total 2 columns):\n",
      " #   Column     Non-Null Count  Dtype  \n",
      "---  ------     --------------  -----  \n",
      " 0   mutant     922 non-null    object \n",
      " 1   DMS_score  922 non-null    float64\n",
      "dtypes: float64(1), object(1)\n",
      "memory usage: 14.5+ KB\n"
     ]
    }
   ],
   "source": [
    "# Common imports. Use whatever you like!\n",
    "import matplotlib.pyplot as plt\n",
    "import numpy as np\n",
    "import pandas as pd\n",
    "import scipy as sp\n",
    "import seaborn as sns\n",
    "\n",
    "dms = pd.read_csv('dms.csv')\n",
    "dms.info()"
   ]
  },
  {
   "cell_type": "markdown",
   "id": "48c0b233-08d1-41ce-94d5-9e01aabaa9c8",
   "metadata": {},
   "source": [
    "# Dataframe manipulation and plotting\n",
    "\n",
    "Generate a heatmap where each column is a position in the protein and each row is the new amino acid.\n",
    "\n",
    "Mutations are formatted `<WT><POSITION><AA>` where `<AA>` is the new amino acid."
   ]
  },
  {
   "cell_type": "code",
   "execution_count": 37,
   "id": "fe939cab-1e39-4c45-a0ec-e1795b9e1eaf",
   "metadata": {},
   "outputs": [],
   "source": [
    "# Heatmap implementation here."
   ]
  },
  {
   "cell_type": "markdown",
   "id": "21b48f13-ce1f-427d-b5c4-cab31e591852",
   "metadata": {},
   "source": [
    "# Data analysis\n",
    "\n",
    "Which positions are easiest to mutate? Which positions are hardest to mutate?"
   ]
  },
  {
   "cell_type": "code",
   "execution_count": 38,
   "id": "5472088a-7dc0-4d04-9902-910f5f7f2b76",
   "metadata": {},
   "outputs": [],
   "source": [
    "# Position analysis here."
   ]
  },
  {
   "cell_type": "markdown",
   "id": "4abd6628-fa1e-4526-9fdf-b6ea010c7648",
   "metadata": {},
   "source": [
    "# Discussion\n",
    "\n",
    "How would you pick acceptable mutations? No code necessary."
   ]
  },
  {
   "cell_type": "markdown",
   "id": "65e89df2-299d-4c0a-a9b6-36b31a286cca",
   "metadata": {},
   "source": [
    "# Comparing to predictions\n",
    "\n",
    "We have a spreadsheet containing predicted scores for these mutations.\n",
    "\n",
    "`if1.csv` contains two columns:\n",
    "\n",
    "- mutant: The mutation scored.\n",
    "- esmif1_ll: A predicted score for the mutated protein."
   ]
  },
  {
   "cell_type": "code",
   "execution_count": 43,
   "id": "961c9961-5aff-48e8-933b-32204f414d0a",
   "metadata": {},
   "outputs": [
    {
     "name": "stdout",
     "output_type": "stream",
     "text": [
      "<class 'pandas.core.frame.DataFrame'>\n",
      "RangeIndex: 922 entries, 0 to 921\n",
      "Data columns (total 2 columns):\n",
      " #   Column     Non-Null Count  Dtype  \n",
      "---  ------     --------------  -----  \n",
      " 0   mutant     922 non-null    object \n",
      " 1   esmif1_ll  922 non-null    float64\n",
      "dtypes: float64(1), object(1)\n",
      "memory usage: 14.5+ KB\n"
     ]
    }
   ],
   "source": [
    "if1 = pd.read_csv(\"if1.csv\")\n",
    "if1.info()"
   ]
  },
  {
   "cell_type": "markdown",
   "id": "10d09fa9-30f1-4260-a77b-f5be8a33cf6e",
   "metadata": {},
   "source": [
    "Comparing across `dms.csv` and `if1.csv`, which mutations have the highest agreement? Which have the lowest?"
   ]
  },
  {
   "cell_type": "code",
   "execution_count": null,
   "id": "f2e76b09-f39c-4e10-bf28-cf2e98cf9a3f",
   "metadata": {},
   "outputs": [],
   "source": [
    "# Mutation comparison here"
   ]
  },
  {
   "cell_type": "markdown",
   "id": "6eb76022-0c97-44d9-b948-ebfbfcc1ea8f",
   "metadata": {},
   "source": [
    "We another spreadsheet containing predicted scores for these mutations.\n",
    "\n",
    "`mpnn.csv` contains two columns:\n",
    "\n",
    "- mutant: The mutation scored.\n",
    "- pmpnn_ll: A predicted score for the mutated protein."
   ]
  },
  {
   "cell_type": "code",
   "execution_count": 44,
   "id": "2833db67-f48b-46ff-bb60-bb3e7ebad21f",
   "metadata": {},
   "outputs": [
    {
     "name": "stdout",
     "output_type": "stream",
     "text": [
      "<class 'pandas.core.frame.DataFrame'>\n",
      "RangeIndex: 922 entries, 0 to 921\n",
      "Data columns (total 2 columns):\n",
      " #   Column    Non-Null Count  Dtype  \n",
      "---  ------    --------------  -----  \n",
      " 0   mutant    922 non-null    object \n",
      " 1   pmpnn_ll  922 non-null    float64\n",
      "dtypes: float64(1), object(1)\n",
      "memory usage: 14.5+ KB\n"
     ]
    }
   ],
   "source": [
    "mpnn = pd.read_csv(\"mpnn.csv\")\n",
    "mpnn.info()"
   ]
  },
  {
   "cell_type": "markdown",
   "id": "31b4b94b-d6b9-4b0c-949e-9414d3d4ebf9",
   "metadata": {},
   "source": [
    "Comparing both `if1.csv` and `mpnn.csv` to `dms.csv`, which set of predicted scores is most similar to `dms.csv`?"
   ]
  },
  {
   "cell_type": "code",
   "execution_count": 45,
   "id": "7d8390af-4852-44e8-8680-52eb3cdc2d6e",
   "metadata": {},
   "outputs": [],
   "source": [
    "# Prediction comparison here"
   ]
  }
 ],
 "metadata": {
  "kernelspec": {
   "display_name": "Python 3 (ipykernel)",
   "language": "python",
   "name": "python3"
  },
  "language_info": {
   "codemirror_mode": {
    "name": "ipython",
    "version": 3
   },
   "file_extension": ".py",
   "mimetype": "text/x-python",
   "name": "python",
   "nbconvert_exporter": "python",
   "pygments_lexer": "ipython3",
   "version": "3.13.3"
  }
 },
 "nbformat": 4,
 "nbformat_minor": 5
}
